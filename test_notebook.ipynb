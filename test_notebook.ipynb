{
  "cells": [
    {
      "cell_type": "markdown",
      "source": [
        "# Mem0 - Test Azure AI Search Vector DB"
      ],
      "metadata": {
        "nteract": {
          "transient": {
            "deleting": false
          }
        }
      }
    },
    {
      "cell_type": "markdown",
      "source": [
        "### Install Required Packages"
      ],
      "metadata": {
        "nteract": {
          "transient": {
            "deleting": false
          }
        }
      }
    },
    {
      "cell_type": "code",
      "source": [
        "!pip install --upgrade  azure-search-documents\n",
        "\n",
        "#11.4.0b8"
      ],
      "outputs": [
        {
          "output_type": "stream",
          "name": "stdout",
          "text": "Requirement already satisfied: azure-search-documents in /anaconda/envs/azureml_py38/lib/python3.9/site-packages (11.4.0b8)\nCollecting azure-search-documents\n  Downloading azure_search_documents-11.5.1-py3-none-any.whl (297 kB)\n\u001b[2K     \u001b[90m━━━━━━━━━━━━━━━━━━━━━━━━━━━━━━━━━━━━━━\u001b[0m \u001b[32m297.7/297.7 kB\u001b[0m \u001b[31m11.5 MB/s\u001b[0m eta \u001b[36m0:00:00\u001b[0m\n\u001b[?25hRequirement already satisfied: isodate>=0.6.0 in /anaconda/envs/azureml_py38/lib/python3.9/site-packages (from azure-search-documents) (0.6.1)\nRequirement already satisfied: typing-extensions>=4.6.0 in /anaconda/envs/azureml_py38/lib/python3.9/site-packages (from azure-search-documents) (4.12.2)\nRequirement already satisfied: azure-common>=1.1 in /anaconda/envs/azureml_py38/lib/python3.9/site-packages (from azure-search-documents) (1.1.28)\nRequirement already satisfied: azure-core>=1.28.0 in /anaconda/envs/azureml_py38/lib/python3.9/site-packages (from azure-search-documents) (1.30.1)\nRequirement already satisfied: six>=1.11.0 in /anaconda/envs/azureml_py38/lib/python3.9/site-packages (from azure-core>=1.28.0->azure-search-documents) (1.16.0)\nRequirement already satisfied: requests>=2.21.0 in /anaconda/envs/azureml_py38/lib/python3.9/site-packages (from azure-core>=1.28.0->azure-search-documents) (2.32.3)\nRequirement already satisfied: charset-normalizer<4,>=2 in /anaconda/envs/azureml_py38/lib/python3.9/site-packages (from requests>=2.21.0->azure-core>=1.28.0->azure-search-documents) (3.3.2)\nRequirement already satisfied: idna<4,>=2.5 in /anaconda/envs/azureml_py38/lib/python3.9/site-packages (from requests>=2.21.0->azure-core>=1.28.0->azure-search-documents) (3.7)\nRequirement already satisfied: urllib3<3,>=1.21.1 in /anaconda/envs/azureml_py38/lib/python3.9/site-packages (from requests>=2.21.0->azure-core>=1.28.0->azure-search-documents) (2.2.2)\nRequirement already satisfied: certifi>=2017.4.17 in /anaconda/envs/azureml_py38/lib/python3.9/site-packages (from requests>=2.21.0->azure-core>=1.28.0->azure-search-documents) (2024.7.4)\nInstalling collected packages: azure-search-documents\n  Attempting uninstall: azure-search-documents\n    Found existing installation: azure-search-documents 11.4.0b8\n    Uninstalling azure-search-documents-11.4.0b8:\n      Successfully uninstalled azure-search-documents-11.4.0b8\nSuccessfully installed azure-search-documents-11.5.1\n"
        }
      ],
      "execution_count": 2,
      "metadata": {
        "jupyter": {
          "source_hidden": false,
          "outputs_hidden": false
        },
        "nteract": {
          "transient": {
            "deleting": false
          }
        },
        "gather": {
          "logged": 1728952980074
        }
      }
    },
    {
      "cell_type": "markdown",
      "source": [
        "# Configs"
      ],
      "metadata": {
        "nteract": {
          "transient": {
            "deleting": false
          }
        }
      }
    },
    {
      "cell_type": "code",
      "source": [
        "import os\n",
        "from mem0 import Memory\n",
        "import warnings \n",
        "warnings.filterwarnings('ignore')\n",
        "\n",
        "config = {\n",
        "    \"llm\": {\n",
        "        \"provider\": \"azure_openai\",\n",
        "        \"config\": {\n",
        "            \"model\": \"gpt-4o-mini\",\n",
        "            \"temperature\": 0.1,\n",
        "            \"max_tokens\": 2000,\n",
        "             \"azure_kwargs\" : {\n",
        "                  \"azure_deployment\" : \"gpt-4o-mini\",\n",
        "                  \"api_version\" : \"2024-02-15-preview\",\n",
        "                  \"azure_endpoint\" : \"https://aoaiswedencentralmo.openai.azure.com/\",\n",
        "                  \"api_key\" : \"key\"\n",
        "              }\n",
        "        }\n",
        "    },\n",
        "    \"embedder\": {\n",
        "        \"provider\": \"azure_openai\",\n",
        "        \"config\": {\n",
        "            \"model\": \"text-embedding-ada-002\",\n",
        "            \"azure_kwargs\" : {\n",
        "                  \"api_version\" : \"2024-02-15-preview\",\n",
        "                  \"azure_deployment\" : \"text-embedding-ada-002\",\n",
        "                  \"azure_endpoint\" : \"https://aoaiswedencentralmo.openai.azure.com/\",\n",
        "                  \"api_key\": \"key\"\n",
        "              }\n",
        "        }\n",
        "    },\n",
        "    \"vector_store\": {\n",
        "        \"provider\": \"azure_ai_search\",\n",
        "        \"config\": {\n",
        "            \"service_name\": \"ai-search-mo\",\n",
        "            \"api_key\": \"key\",\n",
        "            \"embedding_model_dims\": 1536 ,\n",
        "            \"use_compression\": True,\n",
        "            \"collection_name\": \"mem0_compression1\"\n",
        "        }\n",
        "    }\n",
        "}\n"
      ],
      "outputs": [],
      "execution_count": 25,
      "metadata": {
        "gather": {
          "logged": 1730148672413
        }
      }
    },
    {
      "cell_type": "markdown",
      "source": [],
      "metadata": {
        "nteract": {
          "transient": {
            "deleting": false
          }
        }
      }
    },
    {
      "cell_type": "markdown",
      "source": [
        "### Test adding and searching"
      ],
      "metadata": {
        "nteract": {
          "transient": {
            "deleting": false
          }
        }
      }
    },
    {
      "cell_type": "code",
      "source": [
        "m = Memory.from_config(config)\n",
        "m.add(\"Likes to play cricket and soccer on weekends\", user_id=\"alice\", metadata={\"category\": \"hobbies\"})\n",
        "\n"
      ],
      "outputs": [
        {
          "output_type": "execute_result",
          "execution_count": 26,
          "data": {
            "text/plain": "{'message': 'ok'}"
          },
          "metadata": {}
        }
      ],
      "execution_count": 26,
      "metadata": {
        "jupyter": {
          "source_hidden": false,
          "outputs_hidden": false
        },
        "nteract": {
          "transient": {
            "deleting": false
          }
        },
        "gather": {
          "logged": 1730148678879
        }
      }
    },
    {
      "cell_type": "code",
      "source": [
        "related_memories = m.search(query=\"Help me plan my weekend.\", user_id=\"alice\")\n",
        "print(related_memories)"
      ],
      "outputs": [
        {
          "output_type": "stream",
          "name": "stdout",
          "text": "[{'id': '135605dc-7a5a-4d5a-8c2d-82d4fdc7b3b7', 'memory': 'Likes to play cricket and soccer on weekends', 'hash': '285d07801ae42054732314853e9eadd7', 'metadata': {'category': 'hobbies'}, 'score': 0.8357886, 'created_at': '2024-10-28T13:26:51.138031-07:00', 'updated_at': '2024-10-28T13:51:18.592857-07:00', 'user_id': 'alice'}]\n"
        }
      ],
      "execution_count": 27,
      "metadata": {
        "jupyter": {
          "source_hidden": false,
          "outputs_hidden": false
        },
        "nteract": {
          "transient": {
            "deleting": false
          }
        },
        "gather": {
          "logged": 1730148681738
        }
      }
    },
    {
      "cell_type": "markdown",
      "source": [
        "## Test get"
      ],
      "metadata": {
        "nteract": {
          "transient": {
            "deleting": false
          }
        }
      }
    },
    {
      "cell_type": "code",
      "source": [
        "memory_id = related_memories[0]['id']\n",
        "memory = m.get(memory_id)\n",
        "print(memory)"
      ],
      "outputs": [
        {
          "output_type": "stream",
          "name": "stdout",
          "text": "{'id': '135605dc-7a5a-4d5a-8c2d-82d4fdc7b3b7', 'memory': 'Likes to play cricket and soccer on weekends', 'hash': '285d07801ae42054732314853e9eadd7', 'metadata': {'category': 'hobbies'}, 'created_at': '2024-10-28T13:26:51.138031-07:00', 'updated_at': '2024-10-28T13:51:18.592857-07:00', 'user_id': 'alice'}\n"
        }
      ],
      "execution_count": 28,
      "metadata": {
        "jupyter": {
          "source_hidden": false,
          "outputs_hidden": false
        },
        "nteract": {
          "transient": {
            "deleting": false
          }
        },
        "gather": {
          "logged": 1730148684476
        }
      }
    },
    {
      "cell_type": "code",
      "source": [
        "m.get_all(user_id=\"alice\")"
      ],
      "outputs": [
        {
          "output_type": "execute_result",
          "execution_count": 29,
          "data": {
            "text/plain": "[{'id': '135605dc-7a5a-4d5a-8c2d-82d4fdc7b3b7',\n  'memory': 'Likes to play cricket and soccer on weekends',\n  'hash': '285d07801ae42054732314853e9eadd7',\n  'metadata': {'category': 'hobbies'},\n  'created_at': '2024-10-28T13:26:51.138031-07:00',\n  'updated_at': '2024-10-28T13:51:18.592857-07:00',\n  'user_id': 'alice'}]"
          },
          "metadata": {}
        }
      ],
      "execution_count": 29,
      "metadata": {
        "jupyter": {
          "source_hidden": false,
          "outputs_hidden": false
        },
        "nteract": {
          "transient": {
            "deleting": false
          }
        },
        "gather": {
          "logged": 1730148687133
        }
      }
    },
    {
      "cell_type": "code",
      "source": [
        "messages = [{\"role\": \"user\", \"content\": \"I recently tried chicken and I loved it. I'm thinking of trying more non-vegetarian dishes..\"}]\n",
        "m.add(messages, user_id=\"alex\")\n",
        "\n",
        "# Add second message to update history\n",
        "messages.append({'role': 'user', 'content': 'I turned vegetarian now.'})\n",
        "m.add(messages, user_id=\"alex\")\n",
        "\n"
      ],
      "outputs": [
        {
          "output_type": "execute_result",
          "execution_count": 35,
          "data": {
            "text/plain": "{'message': 'ok'}"
          },
          "metadata": {}
        }
      ],
      "execution_count": 35,
      "metadata": {
        "jupyter": {
          "source_hidden": false,
          "outputs_hidden": false
        },
        "nteract": {
          "transient": {
            "deleting": false
          }
        },
        "gather": {
          "logged": 1730148753671
        }
      }
    },
    {
      "cell_type": "code",
      "source": [
        "alex_mem= m.get_all(user_id=\"alex\")\n",
        "print(alex_mem)"
      ],
      "outputs": [
        {
          "output_type": "stream",
          "name": "stdout",
          "text": "[{'id': 'ca691fb9-64b0-44ad-90a0-c967f240c241', 'memory': 'Turned vegetarian now', 'hash': 'ce7710c57995e028a70c449df75be943', 'metadata': None, 'created_at': '2024-10-28T13:52:30.060397-07:00', 'updated_at': '2024-10-28T13:52:33.250155-07:00', 'user_id': 'alex'}]\n"
        }
      ],
      "execution_count": 36,
      "metadata": {
        "jupyter": {
          "source_hidden": false,
          "outputs_hidden": false
        },
        "nteract": {
          "transient": {
            "deleting": false
          }
        },
        "gather": {
          "logged": 1730148757038
        }
      }
    },
    {
      "cell_type": "code",
      "source": [
        "memory_id = alex_mem[0][\"id\"]\n",
        "history = m.history(memory_id)\n",
        "print(history)"
      ],
      "outputs": [
        {
          "output_type": "stream",
          "name": "stdout",
          "text": "[{'id': 'a01015ad-c7c9-4eb6-aa74-b6e7cdb5970f', 'memory_id': 'ca691fb9-64b0-44ad-90a0-c967f240c241', 'old_memory': None, 'new_memory': 'Recently tried chicken and loved it', 'event': 'ADD', 'created_at': '2024-10-28T13:52:30.060397-07:00', 'updated_at': None}, {'id': 'd48d157c-a9a6-405a-aab0-5fbbc789a84e', 'memory_id': 'ca691fb9-64b0-44ad-90a0-c967f240c241', 'old_memory': 'Recently tried chicken and loved it', 'new_memory': 'Turned vegetarian now', 'event': 'UPDATE', 'created_at': '2024-10-28T13:52:30.060397-07:00', 'updated_at': '2024-10-28T13:52:33.250155-07:00'}]\n"
        }
      ],
      "execution_count": 37,
      "metadata": {
        "jupyter": {
          "source_hidden": false,
          "outputs_hidden": false
        },
        "nteract": {
          "transient": {
            "deleting": false
          }
        },
        "gather": {
          "logged": 1730148762690
        }
      }
    },
    {
      "cell_type": "markdown",
      "source": [
        "## Test update and delete"
      ],
      "metadata": {
        "nteract": {
          "transient": {
            "deleting": false
          }
        }
      }
    },
    {
      "cell_type": "code",
      "source": [
        "message = \"I recently tried chicken and I loved it. I'm thinking of trying more non-vegetarian dishes..\"\n",
        "m.update(memory_id, message)"
      ],
      "outputs": [
        {
          "output_type": "execute_result",
          "execution_count": 38,
          "data": {
            "text/plain": "{'message': 'Memory updated successfully!'}"
          },
          "metadata": {}
        }
      ],
      "execution_count": 38,
      "metadata": {
        "jupyter": {
          "source_hidden": false,
          "outputs_hidden": false
        },
        "nteract": {
          "transient": {
            "deleting": false
          }
        },
        "gather": {
          "logged": 1730148770641
        }
      }
    },
    {
      "cell_type": "code",
      "source": [
        "alex_mem= m.get_all(user_id=\"alex\")\n",
        "print(alex_mem)"
      ],
      "outputs": [
        {
          "output_type": "stream",
          "name": "stdout",
          "text": "[{'id': 'ca691fb9-64b0-44ad-90a0-c967f240c241', 'memory': \"I recently tried chicken and I loved it. I'm thinking of trying more non-vegetarian dishes..\", 'hash': 'ce7710c57995e028a70c449df75be943', 'metadata': None, 'created_at': '2024-10-28T13:52:30.060397-07:00', 'updated_at': '2024-10-28T13:52:50.254822-07:00', 'user_id': 'alex'}]\n"
        }
      ],
      "execution_count": 39,
      "metadata": {
        "jupyter": {
          "source_hidden": false,
          "outputs_hidden": false
        },
        "nteract": {
          "transient": {
            "deleting": false
          }
        },
        "gather": {
          "logged": 1730148772415
        }
      }
    },
    {
      "cell_type": "code",
      "source": [
        "m.delete(memory_id)"
      ],
      "outputs": [
        {
          "output_type": "execute_result",
          "execution_count": 40,
          "data": {
            "text/plain": "{'message': 'Memory deleted successfully!'}"
          },
          "metadata": {}
        }
      ],
      "execution_count": 40,
      "metadata": {
        "jupyter": {
          "source_hidden": false,
          "outputs_hidden": false
        },
        "nteract": {
          "transient": {
            "deleting": false
          }
        },
        "gather": {
          "logged": 1730148774709
        }
      }
    },
    {
      "cell_type": "code",
      "source": [
        "alex_mem= m.get_all(user_id=\"alex\")\n",
        "print(alex_mem)"
      ],
      "outputs": [
        {
          "output_type": "stream",
          "name": "stdout",
          "text": "[]\n"
        }
      ],
      "execution_count": 41,
      "metadata": {
        "jupyter": {
          "source_hidden": false,
          "outputs_hidden": false
        },
        "nteract": {
          "transient": {
            "deleting": false
          }
        },
        "gather": {
          "logged": 1730148776893
        }
      }
    },
    {
      "cell_type": "code",
      "source": [
        "alice_mem= m.get_all(user_id=\"alice\")\n",
        "print(alice_mem)"
      ],
      "outputs": [
        {
          "output_type": "stream",
          "name": "stdout",
          "text": "[{'id': '135605dc-7a5a-4d5a-8c2d-82d4fdc7b3b7', 'memory': 'Likes to play cricket and soccer on weekends', 'hash': '285d07801ae42054732314853e9eadd7', 'metadata': {'category': 'hobbies'}, 'created_at': '2024-10-28T13:26:51.138031-07:00', 'updated_at': '2024-10-28T13:51:18.592857-07:00', 'user_id': 'alice'}]\n"
        }
      ],
      "execution_count": 42,
      "metadata": {
        "jupyter": {
          "source_hidden": false,
          "outputs_hidden": false
        },
        "nteract": {
          "transient": {
            "deleting": false
          }
        },
        "gather": {
          "logged": 1730148800345
        }
      }
    },
    {
      "cell_type": "code",
      "source": [
        "m.delete_all(user_id=\"alice\")"
      ],
      "outputs": [
        {
          "output_type": "execute_result",
          "execution_count": 43,
          "data": {
            "text/plain": "{'message': 'Memories deleted successfully!'}"
          },
          "metadata": {}
        }
      ],
      "execution_count": 43,
      "metadata": {
        "jupyter": {
          "source_hidden": false,
          "outputs_hidden": false
        },
        "nteract": {
          "transient": {
            "deleting": false
          }
        },
        "gather": {
          "logged": 1730148804432
        }
      }
    },
    {
      "cell_type": "code",
      "source": [
        "alice_mem= m.get_all(user_id=\"alice\")\n",
        "print(alice_mem)"
      ],
      "outputs": [
        {
          "output_type": "stream",
          "name": "stdout",
          "text": "[]\n"
        }
      ],
      "execution_count": 44,
      "metadata": {
        "jupyter": {
          "source_hidden": false,
          "outputs_hidden": false
        },
        "nteract": {
          "transient": {
            "deleting": false
          }
        },
        "gather": {
          "logged": 1730148809870
        }
      }
    },
    {
      "cell_type": "code",
      "source": [
        "m.get_all(user_id=\"alex\")"
      ],
      "outputs": [
        {
          "output_type": "execute_result",
          "execution_count": 45,
          "data": {
            "text/plain": "[]"
          },
          "metadata": {}
        }
      ],
      "execution_count": 45,
      "metadata": {
        "jupyter": {
          "source_hidden": false,
          "outputs_hidden": false
        },
        "nteract": {
          "transient": {
            "deleting": false
          }
        },
        "gather": {
          "logged": 1730148814066
        }
      }
    },
    {
      "cell_type": "code",
      "source": [
        "m.reset()"
      ],
      "outputs": [
        {
          "output_type": "stream",
          "name": "stderr",
          "text": "WARNING:mem0.memory.main:Resetting all memories\n"
        }
      ],
      "execution_count": 46,
      "metadata": {
        "jupyter": {
          "source_hidden": false,
          "outputs_hidden": false
        },
        "nteract": {
          "transient": {
            "deleting": false
          }
        },
        "gather": {
          "logged": 1730148824286
        }
      }
    }
  ],
  "metadata": {
    "kernelspec": {
      "name": "python310-sdkv2",
      "language": "python",
      "display_name": "Python 3.10 - SDK v2"
    },
    "language_info": {
      "name": "python",
      "version": "3.10.14",
      "mimetype": "text/x-python",
      "codemirror_mode": {
        "name": "ipython",
        "version": 3
      },
      "pygments_lexer": "ipython3",
      "nbconvert_exporter": "python",
      "file_extension": ".py"
    },
    "microsoft": {
      "ms_spell_check": {
        "ms_spell_check_language": "en"
      },
      "host": {
        "AzureML": {
          "notebookHasBeenCompleted": true
        }
      }
    },
    "kernel_info": {
      "name": "python310-sdkv2"
    },
    "nteract": {
      "version": "nteract-front-end@1.0.0"
    }
  },
  "nbformat": 4,
  "nbformat_minor": 2
}